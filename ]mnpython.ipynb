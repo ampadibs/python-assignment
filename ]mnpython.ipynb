{
 "cells": [
  {
   "cell_type": "code",
   "execution_count": 9,
   "id": "fc538f72-a0b8-47dc-8420-836fad1a91dc",
   "metadata": {},
   "outputs": [
    {
     "name": "stdin",
     "output_type": "stream",
     "text": [
      "enter a number: 10\n",
      "enter another number: 3\n"
     ]
    },
    {
     "name": "stdout",
     "output_type": "stream",
     "text": [
      "addition : 13\n",
      "multiplication : 30 \n",
      "division : 3.3333333333333335 \n",
      "modules : 1 \n",
      "exponention : 1000 \n",
      "floor division : 3\n"
     ]
    }
   ],
   "source": [
    "# TAKE INPUT\n",
    "a=int(input(\"enter a number:\"))\n",
    "b=int(input(\"enter another number:\"))\n",
    "\n",
    "#add a and b and store result in add\n",
    "add=a+b\n",
    "# subtract a and b and store result in subtract\n",
    "subtract=a-b\n",
    "# multiply a and b and store result on multipication\n",
    "multipication=a*b\n",
    "# divide a and b and store result in division \n",
    "division=a/b\n",
    "# find reminder and result will be store in modules\n",
    "modules=a%b\n",
    "# find the square and result will store in square\n",
    "square=a**b\n",
    "# find reminder and store result of reminder\n",
    "reminder=a//b\n",
    "\n",
    "# to display output \n",
    "print(f\"addition : {add}\\nmultiplication : {multipication} \\ndivision : {division} \\nmodules : {modules} \\nexponention : {square} \\nfloor division : {reminder}\")"
   ]
  },
  {
   "cell_type": "code",
   "execution_count": 10,
   "id": "6f876f99-f898-4f64-b448-d53f5d784bd8",
   "metadata": {},
   "outputs": [
    {
     "name": "stdin",
     "output_type": "stream",
     "text": [
      "enter a :- 5\n",
      "enter b :- 4\n"
     ]
    },
    {
     "name": "stdout",
     "output_type": "stream",
     "text": [
      "a is greater than b\n"
     ]
    }
   ],
   "source": [
    "# input\n",
    "a=int(input(\"enter a :-\"))\n",
    "b=int(input(\"enter b :-\"))\n",
    "\n",
    "# comparision\n",
    "if a>b:\n",
    "    print(\"a is greater than b\")\n",
    "elif a<b:\n",
    "    print(\"a is smaller than b\")\n",
    "else:\n",
    "    print(\"both are equal\")"
   ]
  },
  {
   "cell_type": "code",
   "execution_count": 5,
   "id": "907ec651-68ae-46ca-b347-dd2379a8ee05",
   "metadata": {},
   "outputs": [
    {
     "name": "stdin",
     "output_type": "stream",
     "text": [
      "enter a boolean value 1:- true\n",
      "enter a boolean value 2:- false\n",
      "enter a boolean value 3:- true\n"
     ]
    },
    {
     "name": "stdout",
     "output_type": "stream",
     "text": [
      "False\n",
      "True\n",
      "False\n",
      "True\n",
      "False\n"
     ]
    }
   ],
   "source": [
    "#input\n",
    "a=input(\"enter a boolean value 1:-\").strip().lower()==\"true\"\n",
    "b=input(\"enter a boolean value 2:-\").strip().lower()==\"true\"\n",
    "c=input(\"enter a boolean value 3:-\").strip().lower()==\"true\"\n",
    "\n",
    "#output\n",
    "print(a and b and c)\n",
    "print(a or b or c)\n",
    "print(not a)\n",
    "print(not b)\n",
    "print(not c)"
   ]
  },
  {
   "cell_type": "code",
   "execution_count": 13,
   "id": "fbf722a9-93e2-4a30-99ed-8353431d52ef",
   "metadata": {},
   "outputs": [
    {
     "name": "stdin",
     "output_type": "stream",
     "text": [
      "enter any string system\n"
     ]
    },
    {
     "name": "stdout",
     "output_type": "stream",
     "text": [
      "6\n",
      "s\n",
      "m\n",
      "metsys\n",
      "SYSTEM\n",
      "system\n"
     ]
    }
   ],
   "source": [
    "# input\n",
    "a=input(\"enter any string\")\n",
    "# output length of string\n",
    "print(len(a))\n",
    "# output index 0\n",
    "print(a[0])\n",
    "# output index -1\n",
    "print(a[-1])\n",
    "# gave output in reverse order\n",
    "print(a[::-1])\n",
    "# gave output in upper strings\n",
    "print(a.upper())\n",
    "# gave output in lower strings\n",
    "print(a.lower())"
   ]
  },
  {
   "cell_type": "code",
   "execution_count": 12,
   "id": "0c9f890c-27ed-4354-b8f3-400410d49103",
   "metadata": {},
   "outputs": [
    {
     "name": "stdin",
     "output_type": "stream",
     "text": [
      "enter your name mn\n",
      "enter your age 19\n"
     ]
    },
    {
     "name": "stdout",
     "output_type": "stream",
     "text": [
      "hello mn you are 19 years old\n"
     ]
    }
   ],
   "source": [
    "# input\n",
    "name=input(\"enter your name\")\n",
    "age=int(input(\"enter your age\"))\n",
    "# output\n",
    "print(f\"hello {name} you are {age} years old\")"
   ]
  },
  {
   "cell_type": "code",
   "execution_count": 14,
   "id": "4e33b14d-b70c-4cad-9eae-fa0bf7bec5e7",
   "metadata": {},
   "outputs": [
    {
     "name": "stdin",
     "output_type": "stream",
     "text": [
      "Enter a sentence:  sun comes at night\n",
      "Enter the word:  at\n"
     ]
    },
    {
     "name": "stdout",
     "output_type": "stream",
     "text": [
      "The word 'at' found at index position 10.\n"
     ]
    }
   ],
   "source": [
    "# input\n",
    "a = input(\"Enter a sentence: \")\n",
    "b = input(\"Enter the word: \")\n",
    "c = a.find(b)\n",
    "\n",
    "# output\n",
    "if c != -1: \n",
    "    print(f\"The word '{b}' found at index position {c}.\")\n",
    "else: \n",
    "    print(f\"The word '{b}' not found.\")\n"
   ]
  },
  {
   "cell_type": "code",
   "execution_count": 15,
   "id": "0c3ecba1-3dd9-451f-951b-d4a2896e87eb",
   "metadata": {},
   "outputs": [
    {
     "name": "stdin",
     "output_type": "stream",
     "text": [
      "enter the no1:- 1\n",
      "enter the no2:- 2\n",
      "enter the no3:- 3\n",
      "enter the no4:- 4\n",
      "enter the no5:- 5\n"
     ]
    },
    {
     "name": "stdout",
     "output_type": "stream",
     "text": [
      "15\n",
      "5\n",
      "1\n"
     ]
    }
   ],
   "source": [
    "\n",
    "a=[]\n",
    "for i in range(5):\n",
    "    b=int(input(f\"enter the no{i+1}:-\"))\n",
    "    a.append(b)\n",
    "c=sum(a)\n",
    "d=max(a)\n",
    "e=min(a)\n",
    "print(c)\n",
    "print(d)\n",
    "print(e)\n"
   ]
  },
  {
   "cell_type": "code",
   "execution_count": 16,
   "id": "30ab1307-7ada-43bf-99ee-985ea90a1263",
   "metadata": {},
   "outputs": [
    {
     "name": "stdin",
     "output_type": "stream",
     "text": [
      "enter the fruits name1 apple\n",
      "enter the fruits name2 orange\n",
      "enter the fruits name3 mango\n",
      "enter the fruits name4 pinapple\n",
      "enter the fruits name5 lemon\n"
     ]
    },
    {
     "name": "stdout",
     "output_type": "stream",
     "text": [
      "['apple', 'mango', 'pinapple', 'lemon', 'kiwi']\n"
     ]
    }
   ],
   "source": [
    "a=[]\n",
    "for i in range(5):\n",
    "    b=input(f\"enter the fruits name{i+1}\")\n",
    "    a.append(b)\n",
    "a.append('kiwi')\n",
    "a.pop(1)\n",
    "print(a)"
   ]
  },
  {
   "cell_type": "code",
   "execution_count": 7,
   "id": "a0190b3f-66e4-4824-bd0e-319302076d09",
   "metadata": {},
   "outputs": [
    {
     "name": "stdin",
     "output_type": "stream",
     "text": [
      "Enter the list item 1:  45\n",
      "Enter the list item 2:  75\n",
      "Enter the list item 3:  84\n",
      "Enter the list item 4:  95\n",
      "Enter the list item 5:  65\n"
     ]
    },
    {
     "name": "stdout",
     "output_type": "stream",
     "text": [
      "Ascending: ['45', '65', '75', '84', '95']\n",
      "Descending: ['95', '84', '75', '65', '45']\n"
     ]
    }
   ],
   "source": [
    "a = []\n",
    "for i in range(5):\n",
    "    b = input(f\"Enter the list item {i + 1}: \")\n",
    "    a.append(b)\n",
    "\n",
    "a.sort()\n",
    "print(\"Ascending:\", a)\n",
    "a.reverse()\n",
    "print(\"Descending:\", a)\n"
   ]
  },
  {
   "cell_type": "code",
   "execution_count": null,
   "id": "ad35d06b-1516-41e8-a140-83b3d29d0c1f",
   "metadata": {},
   "outputs": [],
   "source": []
  }
 ],
 "metadata": {
  "kernelspec": {
   "display_name": "Python 3 (ipykernel)",
   "language": "python",
   "name": "python3"
  },
  "language_info": {
   "codemirror_mode": {
    "name": "ipython",
    "version": 3
   },
   "file_extension": ".py",
   "mimetype": "text/x-python",
   "name": "python",
   "nbconvert_exporter": "python",
   "pygments_lexer": "ipython3",
   "version": "3.12.4"
  }
 },
 "nbformat": 4,
 "nbformat_minor": 5
}
